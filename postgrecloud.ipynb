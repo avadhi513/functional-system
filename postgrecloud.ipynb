{
 "cells": [
  {
   "cell_type": "code",
   "execution_count": 3,
   "metadata": {},
   "outputs": [],
   "source": [
    "import psycopg2\n",
    "from psycopg2 import sql\n"
   ]
  },
  {
   "cell_type": "code",
   "execution_count": 28,
   "metadata": {},
   "outputs": [],
   "source": [
    "db_params = {\n",
    "    'dbname' : 'postgres',\n",
    "    'user' : 'postgres',\n",
    "    'password' : 'Avadhi@5',\n",
    "    'host' : 'localhost',\n",
    "    'port'  : '5432'\n",
    "}\n"
   ]
  },
  {
   "cell_type": "code",
   "execution_count": 29,
   "metadata": {},
   "outputs": [
    {
     "name": "stdout",
     "output_type": "stream",
     "text": [
      "Connection to PostgreSQL successful\n"
     ]
    }
   ],
   "source": [
    "try: \n",
    "    connection = psycopg2.connect(**db_params)\n",
    "    cursor = connection.cursor()\n",
    "    print(\"Connection to PostgreSQL successful\")\n",
    "except Exception as e:\n",
    "    print(f\"Error Connecting to PostgreSQL: {e}\")\n"
   ]
  },
  {
   "cell_type": "code",
   "execution_count": 30,
   "metadata": {},
   "outputs": [],
   "source": [
    "create_table_query = '''\n",
    "CREATE TABLE IF NOT EXISTS sample_data (\n",
    "    id SERIAL PRIMARY KEY,\n",
    "    name VARCHAR(50),\n",
    "    age INT,\n",
    "    email VARCHAR(50),\n",
    "    created_at TIMESTAMP DEFAULT CURRENT_TIMESTAMP\n",
    ");\n",
    "'''\n"
   ]
  },
  {
   "cell_type": "code",
   "execution_count": 31,
   "metadata": {},
   "outputs": [
    {
     "name": "stdout",
     "output_type": "stream",
     "text": [
      "Table created successfully\n"
     ]
    }
   ],
   "source": [
    "# Execute the query\n",
    "cursor.execute(create_table_query)\n",
    "connection.commit()\n",
    "print(\"Table created successfully\")\n"
   ]
  },
  {
   "cell_type": "code",
   "execution_count": 32,
   "metadata": {},
   "outputs": [],
   "source": [
    "# Insert data into the table\n",
    "insert_data_query = '''\n",
    "INSERT INTO sample_data (name, age, email)\n",
    "VALUES (%s, %s, %s)\n",
    "'''\n"
   ]
  },
  {
   "cell_type": "code",
   "execution_count": 33,
   "metadata": {},
   "outputs": [],
   "source": [
    "\n",
    "# Dummy data\n",
    "dummy_data = [\n",
    "    ('Name 1', 25, 'name1@example.com'),\n",
    "    ('Name 2', 30, 'name2@example.com'),\n",
    "    ('Name 3', 35, 'name3@example.com')\n",
    "]\n"
   ]
  },
  {
   "cell_type": "code",
   "execution_count": 34,
   "metadata": {},
   "outputs": [
    {
     "name": "stdout",
     "output_type": "stream",
     "text": [
      "Data inserted successfully\n"
     ]
    }
   ],
   "source": [
    "# Insert dummy data\n",
    "cursor.executemany(insert_data_query, dummy_data)\n",
    "connection.commit()\n",
    "print(\"Data inserted successfully\")\n"
   ]
  },
  {
   "cell_type": "code",
   "execution_count": 35,
   "metadata": {},
   "outputs": [],
   "source": [
    "# Fetch data from the table\n",
    "select_query = 'SELECT * FROM sample_data'\n",
    "cursor.execute(select_query)\n",
    "records = cursor.fetchall()\n"
   ]
  },
  {
   "cell_type": "code",
   "execution_count": 36,
   "metadata": {},
   "outputs": [
    {
     "name": "stdout",
     "output_type": "stream",
     "text": [
      "Data retrieved from the table:\n",
      "(1, 'Name1', 53, 'name1@example.com', datetime.datetime(2024, 6, 23, 15, 50, 55, 601314))\n",
      "(2, 'Name2', 41, 'name2@example.com', datetime.datetime(2024, 6, 23, 15, 50, 55, 601314))\n",
      "(3, 'Name3', 32, 'name3@example.com', datetime.datetime(2024, 6, 23, 15, 50, 55, 601314))\n",
      "(4, 'Name4', 65, 'name4@example.com', datetime.datetime(2024, 6, 23, 15, 50, 55, 601314))\n",
      "(5, 'Name5', 36, 'name5@example.com', datetime.datetime(2024, 6, 23, 15, 50, 55, 601314))\n",
      "(6, 'Name6', 20, 'name6@example.com', datetime.datetime(2024, 6, 23, 15, 50, 55, 601314))\n",
      "(7, 'Name7', 70, 'name7@example.com', datetime.datetime(2024, 6, 23, 15, 50, 55, 601314))\n",
      "(8, 'Name8', 24, 'name8@example.com', datetime.datetime(2024, 6, 23, 15, 50, 55, 601314))\n",
      "(9, 'Name9', 56, 'name9@example.com', datetime.datetime(2024, 6, 23, 15, 50, 55, 601314))\n",
      "(10, 'Name10', 43, 'name10@example.com', datetime.datetime(2024, 6, 23, 15, 50, 55, 601314))\n",
      "(11, 'Name11', 36, 'name11@example.com', datetime.datetime(2024, 6, 23, 15, 50, 55, 601314))\n",
      "(12, 'Name12', 54, 'name12@example.com', datetime.datetime(2024, 6, 23, 15, 50, 55, 601314))\n",
      "(13, 'Name13', 20, 'name13@example.com', datetime.datetime(2024, 6, 23, 15, 50, 55, 601314))\n",
      "(14, 'Name14', 54, 'name14@example.com', datetime.datetime(2024, 6, 23, 15, 50, 55, 601314))\n",
      "(15, 'Name15', 64, 'name15@example.com', datetime.datetime(2024, 6, 23, 15, 50, 55, 601314))\n",
      "(16, 'Name16', 25, 'name16@example.com', datetime.datetime(2024, 6, 23, 15, 50, 55, 601314))\n",
      "(17, 'Name17', 29, 'name17@example.com', datetime.datetime(2024, 6, 23, 15, 50, 55, 601314))\n",
      "(18, 'Name18', 53, 'name18@example.com', datetime.datetime(2024, 6, 23, 15, 50, 55, 601314))\n",
      "(19, 'Name19', 21, 'name19@example.com', datetime.datetime(2024, 6, 23, 15, 50, 55, 601314))\n",
      "(20, 'Name20', 66, 'name20@example.com', datetime.datetime(2024, 6, 23, 15, 50, 55, 601314))\n",
      "(21, 'Name21', 54, 'name21@example.com', datetime.datetime(2024, 6, 23, 15, 50, 55, 601314))\n",
      "(22, 'Name22', 64, 'name22@example.com', datetime.datetime(2024, 6, 23, 15, 50, 55, 601314))\n",
      "(23, 'Name23', 43, 'name23@example.com', datetime.datetime(2024, 6, 23, 15, 50, 55, 601314))\n",
      "(24, 'Name24', 55, 'name24@example.com', datetime.datetime(2024, 6, 23, 15, 50, 55, 601314))\n",
      "(25, 'Name25', 60, 'name25@example.com', datetime.datetime(2024, 6, 23, 15, 50, 55, 601314))\n",
      "(26, 'Name26', 40, 'name26@example.com', datetime.datetime(2024, 6, 23, 15, 50, 55, 601314))\n",
      "(27, 'Name27', 62, 'name27@example.com', datetime.datetime(2024, 6, 23, 15, 50, 55, 601314))\n",
      "(28, 'Name28', 21, 'name28@example.com', datetime.datetime(2024, 6, 23, 15, 50, 55, 601314))\n",
      "(29, 'Name29', 59, 'name29@example.com', datetime.datetime(2024, 6, 23, 15, 50, 55, 601314))\n",
      "(30, 'Name30', 30, 'name30@example.com', datetime.datetime(2024, 6, 23, 15, 50, 55, 601314))\n",
      "(31, 'Name31', 41, 'name31@example.com', datetime.datetime(2024, 6, 23, 15, 50, 55, 601314))\n",
      "(32, 'Name32', 27, 'name32@example.com', datetime.datetime(2024, 6, 23, 15, 50, 55, 601314))\n",
      "(33, 'Name33', 48, 'name33@example.com', datetime.datetime(2024, 6, 23, 15, 50, 55, 601314))\n",
      "(34, 'Name34', 67, 'name34@example.com', datetime.datetime(2024, 6, 23, 15, 50, 55, 601314))\n",
      "(35, 'Name35', 23, 'name35@example.com', datetime.datetime(2024, 6, 23, 15, 50, 55, 601314))\n",
      "(36, 'Name36', 40, 'name36@example.com', datetime.datetime(2024, 6, 23, 15, 50, 55, 601314))\n",
      "(37, 'Name37', 34, 'name37@example.com', datetime.datetime(2024, 6, 23, 15, 50, 55, 601314))\n",
      "(38, 'Name38', 34, 'name38@example.com', datetime.datetime(2024, 6, 23, 15, 50, 55, 601314))\n",
      "(39, 'Name39', 33, 'name39@example.com', datetime.datetime(2024, 6, 23, 15, 50, 55, 601314))\n",
      "(40, 'Name40', 51, 'name40@example.com', datetime.datetime(2024, 6, 23, 15, 50, 55, 601314))\n",
      "(41, 'Name41', 67, 'name41@example.com', datetime.datetime(2024, 6, 23, 15, 50, 55, 601314))\n",
      "(42, 'Name42', 64, 'name42@example.com', datetime.datetime(2024, 6, 23, 15, 50, 55, 601314))\n",
      "(43, 'Name43', 61, 'name43@example.com', datetime.datetime(2024, 6, 23, 15, 50, 55, 601314))\n",
      "(44, 'Name44', 33, 'name44@example.com', datetime.datetime(2024, 6, 23, 15, 50, 55, 601314))\n",
      "(45, 'Name45', 35, 'name45@example.com', datetime.datetime(2024, 6, 23, 15, 50, 55, 601314))\n",
      "(46, 'Name46', 67, 'name46@example.com', datetime.datetime(2024, 6, 23, 15, 50, 55, 601314))\n",
      "(47, 'Name47', 34, 'name47@example.com', datetime.datetime(2024, 6, 23, 15, 50, 55, 601314))\n",
      "(48, 'Name48', 27, 'name48@example.com', datetime.datetime(2024, 6, 23, 15, 50, 55, 601314))\n",
      "(49, 'Name49', 26, 'name49@example.com', datetime.datetime(2024, 6, 23, 15, 50, 55, 601314))\n",
      "(50, 'Name50', 57, 'name50@example.com', datetime.datetime(2024, 6, 23, 15, 50, 55, 601314))\n",
      "(51, 'Name51', 69, 'name51@example.com', datetime.datetime(2024, 6, 23, 15, 50, 55, 601314))\n",
      "(52, 'Name52', 58, 'name52@example.com', datetime.datetime(2024, 6, 23, 15, 50, 55, 601314))\n",
      "(53, 'Name53', 64, 'name53@example.com', datetime.datetime(2024, 6, 23, 15, 50, 55, 601314))\n",
      "(54, 'Name54', 60, 'name54@example.com', datetime.datetime(2024, 6, 23, 15, 50, 55, 601314))\n",
      "(55, 'Name55', 46, 'name55@example.com', datetime.datetime(2024, 6, 23, 15, 50, 55, 601314))\n",
      "(56, 'Name56', 21, 'name56@example.com', datetime.datetime(2024, 6, 23, 15, 50, 55, 601314))\n",
      "(57, 'Name57', 24, 'name57@example.com', datetime.datetime(2024, 6, 23, 15, 50, 55, 601314))\n",
      "(58, 'Name58', 46, 'name58@example.com', datetime.datetime(2024, 6, 23, 15, 50, 55, 601314))\n",
      "(59, 'Name59', 55, 'name59@example.com', datetime.datetime(2024, 6, 23, 15, 50, 55, 601314))\n",
      "(60, 'Name60', 44, 'name60@example.com', datetime.datetime(2024, 6, 23, 15, 50, 55, 601314))\n",
      "(61, 'Name61', 24, 'name61@example.com', datetime.datetime(2024, 6, 23, 15, 50, 55, 601314))\n",
      "(62, 'Name62', 54, 'name62@example.com', datetime.datetime(2024, 6, 23, 15, 50, 55, 601314))\n",
      "(63, 'Name63', 68, 'name63@example.com', datetime.datetime(2024, 6, 23, 15, 50, 55, 601314))\n",
      "(64, 'Name64', 58, 'name64@example.com', datetime.datetime(2024, 6, 23, 15, 50, 55, 601314))\n",
      "(65, 'Name65', 45, 'name65@example.com', datetime.datetime(2024, 6, 23, 15, 50, 55, 601314))\n",
      "(66, 'Name66', 69, 'name66@example.com', datetime.datetime(2024, 6, 23, 15, 50, 55, 601314))\n",
      "(67, 'Name67', 44, 'name67@example.com', datetime.datetime(2024, 6, 23, 15, 50, 55, 601314))\n",
      "(68, 'Name68', 35, 'name68@example.com', datetime.datetime(2024, 6, 23, 15, 50, 55, 601314))\n",
      "(69, 'Name69', 57, 'name69@example.com', datetime.datetime(2024, 6, 23, 15, 50, 55, 601314))\n",
      "(70, 'Name70', 44, 'name70@example.com', datetime.datetime(2024, 6, 23, 15, 50, 55, 601314))\n",
      "(71, 'Name71', 64, 'name71@example.com', datetime.datetime(2024, 6, 23, 15, 50, 55, 601314))\n",
      "(72, 'Name72', 67, 'name72@example.com', datetime.datetime(2024, 6, 23, 15, 50, 55, 601314))\n",
      "(73, 'Name73', 33, 'name73@example.com', datetime.datetime(2024, 6, 23, 15, 50, 55, 601314))\n",
      "(74, 'Name74', 61, 'name74@example.com', datetime.datetime(2024, 6, 23, 15, 50, 55, 601314))\n",
      "(75, 'Name75', 50, 'name75@example.com', datetime.datetime(2024, 6, 23, 15, 50, 55, 601314))\n",
      "(76, 'Name76', 26, 'name76@example.com', datetime.datetime(2024, 6, 23, 15, 50, 55, 601314))\n",
      "(77, 'Name77', 26, 'name77@example.com', datetime.datetime(2024, 6, 23, 15, 50, 55, 601314))\n",
      "(78, 'Name78', 25, 'name78@example.com', datetime.datetime(2024, 6, 23, 15, 50, 55, 601314))\n",
      "(79, 'Name79', 32, 'name79@example.com', datetime.datetime(2024, 6, 23, 15, 50, 55, 601314))\n",
      "(80, 'Name80', 37, 'name80@example.com', datetime.datetime(2024, 6, 23, 15, 50, 55, 601314))\n",
      "(81, 'Name81', 58, 'name81@example.com', datetime.datetime(2024, 6, 23, 15, 50, 55, 601314))\n",
      "(82, 'Name82', 24, 'name82@example.com', datetime.datetime(2024, 6, 23, 15, 50, 55, 601314))\n",
      "(83, 'Name83', 26, 'name83@example.com', datetime.datetime(2024, 6, 23, 15, 50, 55, 601314))\n",
      "(84, 'Name84', 45, 'name84@example.com', datetime.datetime(2024, 6, 23, 15, 50, 55, 601314))\n",
      "(85, 'Name85', 32, 'name85@example.com', datetime.datetime(2024, 6, 23, 15, 50, 55, 601314))\n",
      "(86, 'Name86', 55, 'name86@example.com', datetime.datetime(2024, 6, 23, 15, 50, 55, 601314))\n",
      "(87, 'Name87', 44, 'name87@example.com', datetime.datetime(2024, 6, 23, 15, 50, 55, 601314))\n",
      "(88, 'Name88', 27, 'name88@example.com', datetime.datetime(2024, 6, 23, 15, 50, 55, 601314))\n",
      "(89, 'Name89', 70, 'name89@example.com', datetime.datetime(2024, 6, 23, 15, 50, 55, 601314))\n",
      "(90, 'Name90', 44, 'name90@example.com', datetime.datetime(2024, 6, 23, 15, 50, 55, 601314))\n",
      "(91, 'Name91', 25, 'name91@example.com', datetime.datetime(2024, 6, 23, 15, 50, 55, 601314))\n",
      "(92, 'Name92', 39, 'name92@example.com', datetime.datetime(2024, 6, 23, 15, 50, 55, 601314))\n",
      "(93, 'Name93', 59, 'name93@example.com', datetime.datetime(2024, 6, 23, 15, 50, 55, 601314))\n",
      "(94, 'Name94', 69, 'name94@example.com', datetime.datetime(2024, 6, 23, 15, 50, 55, 601314))\n",
      "(95, 'Name95', 53, 'name95@example.com', datetime.datetime(2024, 6, 23, 15, 50, 55, 601314))\n",
      "(96, 'Name96', 45, 'name96@example.com', datetime.datetime(2024, 6, 23, 15, 50, 55, 601314))\n",
      "(97, 'Name97', 35, 'name97@example.com', datetime.datetime(2024, 6, 23, 15, 50, 55, 601314))\n",
      "(98, 'Name98', 28, 'name98@example.com', datetime.datetime(2024, 6, 23, 15, 50, 55, 601314))\n",
      "(99, 'Name99', 34, 'name99@example.com', datetime.datetime(2024, 6, 23, 15, 50, 55, 601314))\n",
      "(100, 'Name100', 50, 'name100@example.com', datetime.datetime(2024, 6, 23, 15, 50, 55, 601314))\n",
      "(101, 'Name 1', 25, 'name1@example.com', datetime.datetime(2024, 6, 23, 16, 29, 6, 913736))\n",
      "(102, 'Name 2', 30, 'name2@example.com', datetime.datetime(2024, 6, 23, 16, 29, 6, 913736))\n",
      "(103, 'Name 3', 35, 'name3@example.com', datetime.datetime(2024, 6, 23, 16, 29, 6, 913736))\n"
     ]
    }
   ],
   "source": [
    "# Print fetched data\n",
    "print(\"Data retrieved from the table:\")\n",
    "for record in records:\n",
    "    print(record)\n"
   ]
  },
  {
   "cell_type": "code",
   "execution_count": 37,
   "metadata": {},
   "outputs": [],
   "source": [
    "import pandas as pd\n",
    "import psycopg2\n"
   ]
  },
  {
   "cell_type": "code",
   "execution_count": 38,
   "metadata": {},
   "outputs": [],
   "source": [
    "# Define the CSV file path\n",
    "csv_file_path = 'sample_data.csv'\n"
   ]
  },
  {
   "cell_type": "code",
   "execution_count": 39,
   "metadata": {},
   "outputs": [
    {
     "name": "stdout",
     "output_type": "stream",
     "text": [
      "PostgreSQL connection closed\n"
     ]
    }
   ],
   "source": [
    "# Close cursor and connection\n",
    "cursor.close()\n",
    "connection.close()\n",
    "print(\"PostgreSQL connection closed\")\n"
   ]
  },
  {
   "cell_type": "code",
   "execution_count": null,
   "metadata": {},
   "outputs": [],
   "source": []
  }
 ],
 "metadata": {
  "kernelspec": {
   "display_name": "Python 3",
   "language": "python",
   "name": "python3"
  },
  "language_info": {
   "codemirror_mode": {
    "name": "ipython",
    "version": 3
   },
   "file_extension": ".py",
   "mimetype": "text/x-python",
   "name": "python",
   "nbconvert_exporter": "python",
   "pygments_lexer": "ipython3",
   "version": "3.12.4"
  }
 },
 "nbformat": 4,
 "nbformat_minor": 2
}
